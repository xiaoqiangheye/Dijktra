{
 "cells": [
  {
   "cell_type": "markdown",
   "metadata": {},
   "source": [
    "# Dijktra's algorithm\n",
    "\n",
    "\n",
    "Pracice for Dijktra algorithm\n",
    "Start -> A -> End\n",
    "Start -> B -> A -> End\n",
    "Start -> B -> End\n",
    "\n",
    "0. loop through all the node\n",
    "1. find the lowest cost node\n",
    "2. update the cost of neighbours\n",
    "3. put the node into processed\n",
    "\n"
   ]
  },
  {
   "cell_type": "code",
   "execution_count": 1,
   "metadata": {},
   "outputs": [],
   "source": [
    "processed = []  # processed\n",
    "graph = {'start': {'A':6,'B':2},'A':{'end':1},'B':{'A':3,'end':5},'end':{}} #graph that contain the route \n",
    "costs = {'A':6,'B':2,'end':float('inf')}\n",
    "parents = {'A':'start','B':'start','end':None}\n"
   ]
  },
  {
   "cell_type": "code",
   "execution_count": 2,
   "metadata": {},
   "outputs": [],
   "source": [
    "def find_the_lowest_cost(costs):\n",
    "    if len(costs) == 0: return\n",
    "    lowest_key = None\n",
    "    lowest_cost = float('inf');\n",
    "    for node in costs:\n",
    "        if costs[node] < lowest_cost and node not in processed:\n",
    "            lowest_cost = costs[node]\n",
    "            lowest_key = node\n",
    "    \n",
    "    return lowest_key"
   ]
  },
  {
   "cell_type": "code",
   "execution_count": 3,
   "metadata": {},
   "outputs": [
    {
     "name": "stdout",
     "output_type": "stream",
     "text": [
      "B\n",
      "2\n",
      "5\n",
      "6\n"
     ]
    }
   ],
   "source": [
    "node = find_the_lowest_cost(costs)\n",
    "print node\n",
    "while node is not None:\n",
    "    cost = costs[node]\n",
    "    print cost\n",
    "    neighbours = graph[node];\n",
    "    for n in neighbours.keys():\n",
    "        new_cost = cost + neighbours[n];\n",
    "        if new_cost < costs[n]:\n",
    "            costs[n] = new_cost\n",
    "            parents[n] = node\n",
    "    processed.append(node)\n",
    "    \n",
    "    node = find_the_lowest_cost(costs)"
   ]
  },
  {
   "cell_type": "code",
   "execution_count": 4,
   "metadata": {},
   "outputs": [
    {
     "name": "stdout",
     "output_type": "stream",
     "text": [
      "{'A': 'B', 'B': 'start', 'end': 'A'}\n"
     ]
    }
   ],
   "source": [
    "print parents"
   ]
  },
  {
   "cell_type": "code",
   "execution_count": 5,
   "metadata": {},
   "outputs": [
    {
     "name": "stdout",
     "output_type": "stream",
     "text": [
      "startBAend\n"
     ]
    }
   ],
   "source": [
    "#find the path\n",
    "node = 'end'\n",
    "path = node\n",
    "while node != 'start':\n",
    "    node = parents[node]\n",
    "    path = node + path\n",
    "print(path)\n",
    "    "
   ]
  }
 ],
 "metadata": {
  "kernelspec": {
   "display_name": "Python 2",
   "language": "python",
   "name": "python2"
  },
  "language_info": {
   "codemirror_mode": {
    "name": "ipython",
    "version": 2
   },
   "file_extension": ".py",
   "mimetype": "text/x-python",
   "name": "python",
   "nbconvert_exporter": "python",
   "pygments_lexer": "ipython2",
   "version": "2.7.15"
  }
 },
 "nbformat": 4,
 "nbformat_minor": 2
}
